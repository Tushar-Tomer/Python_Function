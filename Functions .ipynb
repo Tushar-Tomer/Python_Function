{
 "cells": [
  {
   "cell_type": "markdown",
   "id": "7d621c7e",
   "metadata": {},
   "source": [
    "# Functions\n",
    "---"
   ]
  },
  {
   "cell_type": "markdown",
   "id": "7b8cdd2b",
   "metadata": {},
   "source": [
    "Python Functions is a block of related statements designed to perform a computational, logical, or evaluative task. The idea is to put some commonly or repeatedly done tasks together and make a function so that instead of writing the same code again and again for different inputs, we can do the function calls to reuse code contained in it over and over again. \n",
    "\n",
    "Functions can be both built-in or user-defined. It helps the program to be concise, non-repetitive, and organized."
   ]
  },
  {
   "cell_type": "markdown",
   "id": "a9bb0cca",
   "metadata": {},
   "source": [
    "### Syntax\n",
    "\n",
    "Function definition\n",
    "\n",
    "The function definition starts with a def keyword followed by the function name and the arguments the function can take. These arguments are within parentheses and there can be any number of arguments including zero. When there is more than one argument, they are separated by a comma. Since python is a loosely typed language, (meaning we don’t assign a data type to a variable when declaration) we shouldn’t include the data types for the arguments. The function definition statement is terminated by a colon. In python, we define a function as follows:"
   ]
  },
  {
   "cell_type": "markdown",
   "id": "4fe89e73",
   "metadata": {},
   "source": [
    "### Creating a Function\n",
    "We can create a  Python function using the def keyword."
   ]
  },
  {
   "cell_type": "code",
   "execution_count": 7,
   "id": "ae867dcd",
   "metadata": {},
   "outputs": [],
   "source": [
    "def fun():# first we created function named fun\n",
    "    print(\"Hello 'Deepanshu' \")"
   ]
  },
  {
   "cell_type": "code",
   "execution_count": 8,
   "id": "f24bb303",
   "metadata": {},
   "outputs": [
    {
     "name": "stdout",
     "output_type": "stream",
     "text": [
      "Hello 'Deepanshu' \n"
     ]
    }
   ],
   "source": [
    "fun()"
   ]
  },
  {
   "cell_type": "code",
   "execution_count": null,
   "id": "37175ff5",
   "metadata": {},
   "outputs": [],
   "source": []
  },
  {
   "cell_type": "code",
   "execution_count": 9,
   "id": "fb17a1a4",
   "metadata": {},
   "outputs": [
    {
     "name": "stdout",
     "output_type": "stream",
     "text": [
      "emter x 4\n",
      "enter y 4\n",
      "8\n"
     ]
    }
   ],
   "source": [
    "def add(a,b):\n",
    "    print(a+b)\n",
    "x=int(input('emter x '))\n",
    "y=int(input('enter y '))\n",
    "add(x,y)"
   ]
  },
  {
   "cell_type": "code",
   "execution_count": 17,
   "id": "a0ec661f",
   "metadata": {},
   "outputs": [
    {
     "name": "stdout",
     "output_type": "stream",
     "text": [
      "Hello 'Deepanshu' \n"
     ]
    }
   ],
   "source": [
    "fun()\n",
    "# every time we call this fun function it will give same value"
   ]
  },
  {
   "cell_type": "code",
   "execution_count": 35,
   "id": "a88e6ac3",
   "metadata": {},
   "outputs": [
    {
     "name": "stdout",
     "output_type": "stream",
     "text": [
      "python\n",
      "Data science\n"
     ]
    }
   ],
   "source": [
    "def deepanshu():\n",
    "    print('python')\n",
    "    print('Data science')\n",
    "\n",
    "deepanshu()"
   ]
  },
  {
   "cell_type": "code",
   "execution_count": 36,
   "id": "66eb84eb",
   "metadata": {},
   "outputs": [
    {
     "name": "stdout",
     "output_type": "stream",
     "text": [
      "python\n",
      "Data science\n",
      "AI\n"
     ]
    }
   ],
   "source": [
    "def deepanshu():\n",
    "    print('python')\n",
    "    print('Data science')\n",
    "\n",
    "deepanshu()\n",
    "print('AI') # it is not a part of then function\n"
   ]
  },
  {
   "cell_type": "code",
   "execution_count": 40,
   "id": "f6dc65ef",
   "metadata": {},
   "outputs": [
    {
     "name": "stdout",
     "output_type": "stream",
     "text": [
      "Befote function call\n",
      "enter a 2\n",
      "enter b 2\n",
      "the addition of two variable is 4\n",
      "After function call \n"
     ]
    }
   ],
   "source": [
    "def add():\n",
    "    a=int(input('enter a '))\n",
    "    b=int(input('enter b '))\n",
    "    result=a+b\n",
    "    print('the addition of two variable is',result)\n",
    "print('Befote function call')\n",
    "add()\n",
    "\n",
    "print('After function call ')"
   ]
  },
  {
   "cell_type": "markdown",
   "id": "db13d96a",
   "metadata": {},
   "source": [
    "There are four ways to define function\n",
    "- Takes Nothing,return Nothing\n",
    "- Takes Something, return Nothing\n",
    "- Takes Nothing, return Something\n",
    "- Takes Someethong, return Something"
   ]
  },
  {
   "cell_type": "code",
   "execution_count": 41,
   "id": "f4f36fd0",
   "metadata": {},
   "outputs": [
    {
     "name": "stdout",
     "output_type": "stream",
     "text": [
      "enter a 1\n",
      "enter b 2\n",
      "the addition of two variable is 3\n"
     ]
    }
   ],
   "source": [
    "# Takes Nothing return Nothing\n",
    "def add():\n",
    "    a=int(input('enter a '))\n",
    "    b=int(input('enter b '))\n",
    "    result=a+b\n",
    "    print('the addition of two variable is',result)\n",
    "   \n",
    "add()\n"
   ]
  },
  {
   "cell_type": "code",
   "execution_count": 42,
   "id": "260aabaa",
   "metadata": {},
   "outputs": [
    {
     "data": {
      "text/plain": [
       "9"
      ]
     },
     "execution_count": 42,
     "metadata": {},
     "output_type": "execute_result"
    }
   ],
   "source": [
    "s='deepanshu'\n",
    "len(s)"
   ]
  },
  {
   "cell_type": "code",
   "execution_count": 11,
   "id": "9b0c482e",
   "metadata": {},
   "outputs": [],
   "source": [
    "c=0\n",
    "def length(a):\n",
    "    global c\n",
    "    for i in  a:\n",
    "        c+=1\n",
    "    return(c)\n",
    "# length('deepanshu')"
   ]
  },
  {
   "cell_type": "code",
   "execution_count": 6,
   "id": "733e85af",
   "metadata": {},
   "outputs": [
    {
     "name": "stdout",
     "output_type": "stream",
     "text": [
      "Please enter Two number\n",
      "enter number 4\n",
      "enter number 4\n",
      "the addition of two variable is 8\n"
     ]
    }
   ],
   "source": [
    "# Takes Something, return Nothing\n",
    "def add(M,N): # parameters or formal parameters\n",
    "   \n",
    "    \n",
    "    result=M+N\n",
    "    print('the addition of two variable is',result)\n",
    "print('Please enter Two number')\n",
    "a=int(input('enter number '))\n",
    "b=int(input('enter number '))\n",
    "add(a,b) # arguments or actual parameters\n"
   ]
  },
  {
   "cell_type": "code",
   "execution_count": 13,
   "id": "cb564bbe",
   "metadata": {},
   "outputs": [
    {
     "name": "stdout",
     "output_type": "stream",
     "text": [
      "Please enter Two number\n",
      "enter number 5\n",
      "enter number 6\n",
      "11\n"
     ]
    }
   ],
   "source": [
    "# Takes Nothing return Something\n",
    "def add():\n",
    "    print('Please enter Two number')\n",
    "    x=int(input('enter number '))\n",
    "    y=int(input('enter number '))\n",
    "    print(x+y)\n",
    "    \n",
    "    \n",
    "    result=x+y\n",
    "\n",
    "    return result\n",
    "\n",
    "    \n",
    "t=add()\n",
    "\n",
    "# print('hii')\n",
    "\n"
   ]
  },
  {
   "cell_type": "code",
   "execution_count": 14,
   "id": "6d3e966a",
   "metadata": {},
   "outputs": [
    {
     "name": "stdout",
     "output_type": "stream",
     "text": [
      "11\n"
     ]
    }
   ],
   "source": [
    "print(t)"
   ]
  },
  {
   "cell_type": "code",
   "execution_count": 17,
   "id": "f3b902b9",
   "metadata": {},
   "outputs": [
    {
     "name": "stdout",
     "output_type": "stream",
     "text": [
      "hii\n",
      "17\n"
     ]
    }
   ],
   "source": [
    "# Takes something, return something\n",
    "def add(x,y):\n",
    "    print('hii')\n",
    "    result=x+y\n",
    "    \n",
    "    return result\n",
    "a=11\n",
    "b=6\n",
    "\n",
    "\n",
    "print(add(a,b))\n"
   ]
  },
  {
   "cell_type": "code",
   "execution_count": null,
   "id": "02bc0ce1",
   "metadata": {},
   "outputs": [],
   "source": []
  },
  {
   "cell_type": "code",
   "execution_count": 23,
   "id": "1d08107e",
   "metadata": {},
   "outputs": [
    {
     "name": "stdout",
     "output_type": "stream",
     "text": [
      "numpy\n",
      "yess\n",
      "pandas\n"
     ]
    }
   ],
   "source": [
    "def hii():\n",
    "    return 'yess'\n",
    "    print('hey')\n",
    "    print('hii')\n",
    "   \n",
    "    print('python')\n",
    "    print('data abnalytics')\n",
    "    \n",
    "print('numpy')\n",
    "z=hii()\n",
    "print(z)\n",
    "print('pandas')"
   ]
  },
  {
   "cell_type": "code",
   "execution_count": 39,
   "id": "5bed45ac",
   "metadata": {},
   "outputs": [
    {
     "name": "stdout",
     "output_type": "stream",
     "text": [
      "hello\n",
      "None ---- <class 'NoneType'>\n"
     ]
    }
   ],
   "source": [
    "### when fuction returns nothing that time it returns none\n",
    "def myfunc():\n",
    "    print('hello')\n",
    "   \n",
    "rec=myfunc()\n",
    "print(rec,'----',type(rec))"
   ]
  },
  {
   "cell_type": "code",
   "execution_count": 78,
   "id": "8c431844",
   "metadata": {},
   "outputs": [
    {
     "name": "stdout",
     "output_type": "stream",
     "text": [
      "hiii\n",
      "hello\n"
     ]
    },
    {
     "data": {
      "text/plain": [
       "'python'"
      ]
     },
     "execution_count": 78,
     "metadata": {},
     "output_type": "execute_result"
    }
   ],
   "source": [
    "def D():\n",
    "    print('hiii')\n",
    "    print('hello')\n",
    "    return 'python'\n",
    "#     print('deepanshu')\n",
    "    \n",
    "#     print('verma')\n",
    "    \n",
    "# q=D()\n",
    "# print(q)\n",
    "D()\n",
    "# print(S)"
   ]
  },
  {
   "cell_type": "code",
   "execution_count": 26,
   "id": "7368057a",
   "metadata": {},
   "outputs": [
    {
     "name": "stdout",
     "output_type": "stream",
     "text": [
      "hiii\n",
      "1\n",
      "-10\n"
     ]
    }
   ],
   "source": [
    "def sub(R,S):\n",
    "    print('hiii')\n",
    "    print('1')\n",
    "    result=R-S\n",
    "   \n",
    "    return result\n",
    "    print('hello')\n",
    "    print('2')\n",
    "X=10\n",
    "Y=20\n",
    "k=sub(X,Y)\n",
    "print(k)"
   ]
  },
  {
   "cell_type": "code",
   "execution_count": 27,
   "id": "a2b8b56b",
   "metadata": {},
   "outputs": [
    {
     "name": "stdout",
     "output_type": "stream",
     "text": [
      "hii\n"
     ]
    }
   ],
   "source": [
    "def tt():\n",
    "    print('hii')\n",
    "    return 'Deepanshu'\n",
    "    print('hello')\n",
    "K=tt()"
   ]
  },
  {
   "cell_type": "code",
   "execution_count": 82,
   "id": "8c818590",
   "metadata": {},
   "outputs": [
    {
     "name": "stdout",
     "output_type": "stream",
     "text": [
      "Deepanshu\n"
     ]
    }
   ],
   "source": [
    "print(K)"
   ]
  },
  {
   "cell_type": "code",
   "execution_count": 30,
   "id": "d9509820",
   "metadata": {},
   "outputs": [
    {
     "name": "stdout",
     "output_type": "stream",
     "text": [
      "6\n",
      "hii\n",
      "6\n"
     ]
    }
   ],
   "source": [
    "def anil(a,b,c):\n",
    "    print(a+b+c)\n",
    "    print('hii')\n",
    "    return a+b+c\n",
    "    print('yess')\n",
    "\n",
    "deepanshu=anil(1,2,3)\n",
    "print(deepanshu)"
   ]
  },
  {
   "cell_type": "code",
   "execution_count": 97,
   "id": "eeb7a956",
   "metadata": {},
   "outputs": [
    {
     "name": "stdout",
     "output_type": "stream",
     "text": [
      "hellohiii\n"
     ]
    }
   ],
   "source": [
    "def I(a,b):\n",
    "    print(a+b)\n",
    "    \n",
    "m='hiii'\n",
    "n='hello'\n",
    "I(n,m)"
   ]
  },
  {
   "cell_type": "markdown",
   "id": "d1077653",
   "metadata": {},
   "source": [
    "When we call a function with some values, these values get assigned to the arguments according to their position.\n",
    "\n",
    "Python allows functions to be called using keyword arguments.\n",
    "\n",
    "\n",
    "When we call functions in this way, the order (position) of the arguments can be changed.\n"
   ]
  },
  {
   "cell_type": "code",
   "execution_count": null,
   "id": "b44b44f8",
   "metadata": {},
   "outputs": [],
   "source": [
    "def exam(p,q):\n",
    "    print(p,q)\n",
    "\n",
    "U='Hii'\n",
    "T='Priyanka'\n",
    "exam(U,T)"
   ]
  },
  {
   "cell_type": "code",
   "execution_count": 31,
   "id": "0be0f2d4",
   "metadata": {},
   "outputs": [
    {
     "name": "stdout",
     "output_type": "stream",
     "text": [
      "Deepanshu Verma\n"
     ]
    }
   ],
   "source": [
    "def student(firstname, lastname):\n",
    "    print(firstname, lastname)\n",
    " \n",
    " \n",
    "# Keyword arguments\n",
    "# same as normal arguments but you can specify the argument \n",
    "# student(firstname='Madrid', lastname='Solutions')  \n",
    "# student(lastname='Madrid', firstname='Solution')\n",
    "a='Deepanshu'\n",
    "b='Verma'\n",
    "student(a,b)\n",
    "# student(b,a)\n",
    "# we gave same output but in diffrent order and still get same output \n",
    "# beacuse of keyword argument because we specified the arguments"
   ]
  },
  {
   "cell_type": "markdown",
   "id": "5f481f1c",
   "metadata": {},
   "source": [
    "#### The return statement\n",
    "The function return statement is used to exit from a function and go back to the function caller and return the specified value or data item to the caller.\n",
    "\n",
    "Syntax: return [expression_list]\n",
    "\n",
    "The return statement can consist of a variable, an expression, or a constant which is returned to the end of the function execution. If none of the above is present with the return statement a None object is returned."
   ]
  },
  {
   "cell_type": "code",
   "execution_count": 101,
   "id": "ce4d4b9c",
   "metadata": {},
   "outputs": [
    {
     "data": {
      "text/plain": [
       "16"
      ]
     },
     "execution_count": 101,
     "metadata": {},
     "output_type": "execute_result"
    }
   ],
   "source": [
    "\n",
    "def square_value(num):\n",
    "   \n",
    "    return num**2\n",
    "#     print('hiii')\n",
    "\n",
    "    # ranther than printing result we can use return for getting value\n",
    "\n",
    "\n",
    "# x=square_value(2)\n",
    "# print(x)# it will return square of 2\n",
    "square_value(-4)      # it will return square of -4"
   ]
  },
  {
   "cell_type": "code",
   "execution_count": 100,
   "id": "a97fda19",
   "metadata": {},
   "outputs": [
    {
     "name": "stdout",
     "output_type": "stream",
     "text": [
      "4\n"
     ]
    }
   ],
   "source": [
    "\n",
    "print(x)"
   ]
  },
  {
   "cell_type": "code",
   "execution_count": 59,
   "id": "a8007bfb",
   "metadata": {},
   "outputs": [
    {
     "data": {
      "text/plain": [
       "5"
      ]
     },
     "execution_count": 59,
     "metadata": {},
     "output_type": "execute_result"
    }
   ],
   "source": [
    "5"
   ]
  },
  {
   "cell_type": "code",
   "execution_count": 102,
   "id": "d50cabac",
   "metadata": {},
   "outputs": [
    {
     "name": "stdout",
     "output_type": "stream",
     "text": [
      "hiiii\n",
      "30\n"
     ]
    }
   ],
   "source": [
    "def FUN(a,b):\n",
    "    print('hiiii')\n",
    "    return a+b\n",
    "    return('Deepanshu')\n",
    "    print('How are you ?')\n",
    "    print('function funish')\n",
    "C=10\n",
    "G=20\n",
    "print(FUN(10,20))\n"
   ]
  },
  {
   "cell_type": "code",
   "execution_count": 63,
   "id": "9e9dc8e9",
   "metadata": {},
   "outputs": [
    {
     "name": "stdout",
     "output_type": "stream",
     "text": [
      "hiiii\n",
      "30\n",
      "yes\n"
     ]
    }
   ],
   "source": [
    "def FUN(a,b):\n",
    "    print('hiiii')\n",
    "    return a+b\n",
    "#     return('Deepanshu')\n",
    "#     print('How are you ?')\n",
    "#     print('function funish')\n",
    "# C=10\n",
    "# G=20\n",
    "print(FUN(10,20))\n",
    "print('yes')"
   ]
  },
  {
   "cell_type": "code",
   "execution_count": 103,
   "id": "d6c3129d",
   "metadata": {},
   "outputs": [
    {
     "name": "stdout",
     "output_type": "stream",
     "text": [
      "[20, 11, 12, 13, 14, 15]\n"
     ]
    }
   ],
   "source": [
    "# def without print or return\n",
    "def lst(x):\n",
    "    x[0] = 20\n",
    " \n",
    "    print(x)\n",
    "\n",
    "l = [10, 11, 12, 13, 14, 15]\n",
    "lst(l)\n"
   ]
  },
  {
   "cell_type": "markdown",
   "id": "afe9eedb",
   "metadata": {},
   "source": [
    "## Variable-length Arguments"
   ]
  },
  {
   "cell_type": "markdown",
   "id": "9cd7f9f3",
   "metadata": {},
   "source": [
    "You may need to process a function for more arguments than you specified while defining the function.\n",
    "\n",
    " These arguments are called variable-length arguments and are not named in the function definition, unlike required and default arguments.\n"
   ]
  },
  {
   "cell_type": "code",
   "execution_count": null,
   "id": "279b48fa",
   "metadata": {},
   "outputs": [],
   "source": [
    "#Syntax:-\n",
    "\n",
    "# def functionname([formal_args,] *var_args_tuple ):\n",
    "#     function_suite \n",
    "#     return [expression]\n",
    "\n",
    "#An asterisk (*) is placed before the variable name that holds the values of all non keyword variable arguments. \n",
    "#This tuple remains empty if no additional arguments are specified during the function call. \n"
   ]
  },
  {
   "cell_type": "code",
   "execution_count": 104,
   "id": "93e4dfbd",
   "metadata": {},
   "outputs": [
    {
     "name": "stdout",
     "output_type": "stream",
     "text": [
      "2\n",
      "3\n",
      "6\n",
      "2 3 6\n"
     ]
    }
   ],
   "source": [
    "def d(a,b,c):\n",
    "    print(a,b,c)\n",
    "    \n",
    "x=int(input())\n",
    "y=int(input())\n",
    "z=int(input())\n",
    "\n",
    "d(x,y,z)\n"
   ]
  },
  {
   "cell_type": "code",
   "execution_count": 32,
   "id": "321cf6bc",
   "metadata": {},
   "outputs": [
    {
     "name": "stdout",
     "output_type": "stream",
     "text": [
      "<class 'tuple'> (1, 2, 3, 4, 5, 7, 8, 9, 2)\n",
      "1\n",
      "2\n",
      "3\n",
      "4\n",
      "5\n",
      "7\n",
      "8\n",
      "9\n",
      "2\n"
     ]
    }
   ],
   "source": [
    "def hlo(*args): # first we took argument as *args\n",
    "    print(type(args),args)\n",
    "    for arg in args: \n",
    "#         # since it is stored as tuple we need to use loop to acess the values \n",
    "        print(arg)\n",
    " \n",
    " \n",
    "hlo(1,2,3,4,5,7,8,9,2)"
   ]
  },
  {
   "cell_type": "code",
   "execution_count": 118,
   "id": "490c1b22",
   "metadata": {},
   "outputs": [
    {
     "name": "stdout",
     "output_type": "stream",
     "text": [
      "(10, 20, 30, 40, 50, 60, 70, 80, 90, 100, 110, 120, 130) <class 'tuple'>\n",
      "average of all the numbers 70.0\n"
     ]
    }
   ],
   "source": [
    "def find_average(*numbers):     \n",
    "    print(numbers,type(numbers))\n",
    "    \n",
    "    print('average of all the numbers',sum(numbers)/len(numbers))\n",
    "    \n",
    "    \n",
    "y=find_average(10,20,30,40,50,60,70,80,90,100,110,120,130)"
   ]
  },
  {
   "cell_type": "code",
   "execution_count": 33,
   "id": "c745c399",
   "metadata": {},
   "outputs": [
    {
     "name": "stdout",
     "output_type": "stream",
     "text": [
      "enter n 3\n",
      "enter10\n",
      "100\n",
      "enter2\n",
      "4\n",
      "enter3\n",
      "9\n"
     ]
    }
   ],
   "source": [
    "n=int(input('enter n '))\n",
    "for i in range(n):\n",
    "    def p(a):\n",
    "        print(a**2)\n",
    "        \n",
    "    k=int(input('enter'))\n",
    "    p(k)"
   ]
  },
  {
   "cell_type": "code",
   "execution_count": 1,
   "id": "ae00d0aa",
   "metadata": {},
   "outputs": [
    {
     "name": "stdout",
     "output_type": "stream",
     "text": [
      "0\n",
      "1\n",
      "2\n"
     ]
    }
   ],
   "source": [
    "def k(v):\n",
    "    print(v)\n",
    "for i in range(3):\n",
    "    k(i)"
   ]
  },
  {
   "cell_type": "code",
   "execution_count": 2,
   "id": "890d980f",
   "metadata": {},
   "outputs": [
    {
     "name": "stdout",
     "output_type": "stream",
     "text": [
      "1 2 3 4\n"
     ]
    }
   ],
   "source": [
    "a=(1,2,3,4)\n",
    "print(*a)# Star is using for unpack"
   ]
  },
  {
   "cell_type": "code",
   "execution_count": 3,
   "id": "06d72033",
   "metadata": {},
   "outputs": [
    {
     "name": "stdout",
     "output_type": "stream",
     "text": [
      "1 2\n"
     ]
    }
   ],
   "source": [
    "a={1:\"a\",2:\"b\"}\n",
    "print(*a)"
   ]
  },
  {
   "cell_type": "code",
   "execution_count": 4,
   "id": "c5b6893e",
   "metadata": {},
   "outputs": [
    {
     "name": "stdout",
     "output_type": "stream",
     "text": [
      "a b\n"
     ]
    }
   ],
   "source": [
    "a={1:\"a\",2:\"b\"}\n",
    "print(*a.values())"
   ]
  },
  {
   "cell_type": "code",
   "execution_count": 5,
   "id": "ec2458ec",
   "metadata": {},
   "outputs": [
    {
     "name": "stdout",
     "output_type": "stream",
     "text": [
      "1 2\n"
     ]
    }
   ],
   "source": [
    "a={1:\"a\",2:\"b\"}\n",
    "print(*a.keys())"
   ]
  },
  {
   "cell_type": "code",
   "execution_count": 8,
   "id": "f525a88a",
   "metadata": {},
   "outputs": [
    {
     "name": "stdout",
     "output_type": "stream",
     "text": [
      "(1, 'a') (2, 'b')\n"
     ]
    }
   ],
   "source": [
    "a={1:\"a\",2:\"b\"}\n",
    "print(*a.items())"
   ]
  },
  {
   "cell_type": "code",
   "execution_count": 10,
   "id": "c0a50a13",
   "metadata": {},
   "outputs": [
    {
     "name": "stdout",
     "output_type": "stream",
     "text": [
      "1 2 3 4\n"
     ]
    }
   ],
   "source": [
    "a=[1,2,3,4]\n",
    "print(*a)"
   ]
  },
  {
   "cell_type": "code",
   "execution_count": 11,
   "id": "bb28494c",
   "metadata": {},
   "outputs": [
    {
     "name": "stdout",
     "output_type": "stream",
     "text": [
      "1 2 3 4\n"
     ]
    }
   ],
   "source": [
    "a={1,2,3,4}\n",
    "print(*a)"
   ]
  },
  {
   "cell_type": "code",
   "execution_count": 39,
   "id": "78b4127c",
   "metadata": {},
   "outputs": [
    {
     "name": "stdout",
     "output_type": "stream",
     "text": [
      "Output is:\n",
      "100\n",
      "(40, 70, 40)\n",
      "40 70 40\n",
      "40\n",
      "70\n",
      "40\n"
     ]
    },
    {
     "data": {
      "text/plain": [
       "40"
      ]
     },
     "execution_count": 39,
     "metadata": {},
     "output_type": "execute_result"
    }
   ],
   "source": [
    "def printinfo(arg1,*vartuple):\n",
    "   \n",
    "    print(\"Output is:\")\n",
    "    print(arg1)\n",
    "    print(vartuple)\n",
    "    print(*vartuple)\n",
    "    for var in vartuple:\n",
    "        print(var)\n",
    "    return var\n",
    "\n",
    "printinfo(100,40,70,40)\n"
   ]
  },
  {
   "cell_type": "code",
   "execution_count": 40,
   "id": "53999069",
   "metadata": {},
   "outputs": [
    {
     "name": "stdout",
     "output_type": "stream",
     "text": [
      "1\n",
      "2 3 4\n",
      "(2, 3, 4)\n",
      "2\n",
      "3\n",
      "4\n"
     ]
    }
   ],
   "source": [
    "def printValue(arg1,*vartuple):\n",
    "    print(arg1)\n",
    "    print(*vartuple)\n",
    "    print(vartuple)\n",
    "    for v in vartuple:\n",
    "        print(v)\n",
    "# printValue(1)\n",
    "printValue(1,2,3,4)\n",
    "# printValue(1,2,\"Three\",4.0)\n"
   ]
  },
  {
   "cell_type": "code",
   "execution_count": 17,
   "id": "ae7840f1",
   "metadata": {},
   "outputs": [
    {
     "name": "stdout",
     "output_type": "stream",
     "text": [
      "There is no numbers for avreage\n",
      "150\n",
      "30.0\n"
     ]
    }
   ],
   "source": [
    "## Variable length arguments\n",
    "def Average(*numbers):\n",
    "    sum=0\n",
    "    for num in numbers:\n",
    "        sum+=num\n",
    "    if len(numbers)!=0:\n",
    "        print(sum)\n",
    "        return sum/len(numbers)\n",
    "    else:\n",
    "        return \"There is no numbers for avreage\"\n",
    "\n",
    "\n",
    "result=Average()\n",
    "print(result)\n",
    "result=Average(10,20,30,40,50)\n",
    "print(result)\n",
    "\n"
   ]
  },
  {
   "cell_type": "code",
   "execution_count": 47,
   "id": "b63d7486",
   "metadata": {},
   "outputs": [
    {
     "name": "stdout",
     "output_type": "stream",
     "text": [
      "Deepanshu 10\n",
      "Total points 65\n"
     ]
    }
   ],
   "source": [
    "def f1(teachername,batches,*points):\n",
    "    print(teachername,batches)\n",
    "#     print(points)\n",
    "    s=0\n",
    "    for x in points:\n",
    "        s+=x\n",
    "    print('Total points',s)\n",
    "\n",
    "# f1('Deepanshu',10,11,12)\n",
    "f1('Deepanshu',10,11,12,13,14,15)"
   ]
  },
  {
   "cell_type": "code",
   "execution_count": null,
   "id": "bfda3bd5",
   "metadata": {},
   "outputs": [],
   "source": []
  },
  {
   "cell_type": "markdown",
   "id": "e72415af",
   "metadata": {},
   "source": [
    "### This is the combination of variable length arguments and Keyword Arguments"
   ]
  },
  {
   "cell_type": "code",
   "execution_count": 48,
   "id": "ef6c7015",
   "metadata": {},
   "outputs": [
    {
     "name": "stdout",
     "output_type": "stream",
     "text": [
      "{'a': 1, 'b': 2, 'c': 3}\n",
      "a 1\n",
      "1\n",
      "b 2\n",
      "2\n",
      "c 3\n",
      "3\n"
     ]
    }
   ],
   "source": [
    "def fun(**kwargs):                 # first we take argument as **kwargs \n",
    "    print(kwargs)\n",
    "    for key in kwargs:\n",
    "        print(key ,kwargs[key]) \n",
    "        print(kwargs[key])\n",
    "        # since it is stored as dictionery we need to use loop \n",
    "        # to acess keys and values \n",
    "\n",
    "        \n",
    "fun(a=1,b=2,c=3)"
   ]
  },
  {
   "cell_type": "code",
   "execution_count": 28,
   "id": "2f752951",
   "metadata": {},
   "outputs": [
    {
     "name": "stdout",
     "output_type": "stream",
     "text": [
      "{'a': 2, 'b': 4, 'c': 6, 'd': 8}\n",
      "a b c d\n"
     ]
    }
   ],
   "source": [
    "def game(**race):\n",
    "    print(race)\n",
    "    print(*race)\n",
    "game(a=2,b=4,c=6,d=8)"
   ]
  },
  {
   "cell_type": "code",
   "execution_count": 29,
   "id": "3ef52a74",
   "metadata": {},
   "outputs": [
    {
     "name": "stdout",
     "output_type": "stream",
     "text": [
      "{'a': 2, 'b': 4, 'c': 6, 'd': 8}\n",
      "a b c d\n",
      "a 2\n",
      "b 4\n",
      "c 6\n",
      "d 8\n"
     ]
    }
   ],
   "source": [
    "def game(**race):\n",
    "    print(race)\n",
    "    print(*race)\n",
    "    for i in race:\n",
    "        print(i,race[i])\n",
    "game(a=2,b=4,c=6,d=8)"
   ]
  },
  {
   "cell_type": "code",
   "execution_count": 32,
   "id": "6b296a92",
   "metadata": {},
   "outputs": [
    {
     "name": "stdout",
     "output_type": "stream",
     "text": [
      "dict_items([('A', 1)])\n"
     ]
    }
   ],
   "source": [
    "x={'A':1}\n",
    "print(x.items())\n",
    "# print(x.values())\n",
    "# print(x.keys())"
   ]
  },
  {
   "cell_type": "code",
   "execution_count": 5,
   "id": "17b5c7cf",
   "metadata": {},
   "outputs": [
    {
     "name": "stdout",
     "output_type": "stream",
     "text": [
      "hiii\n",
      "13\n"
     ]
    }
   ],
   "source": [
    "def faisal(a,b):\n",
    "    print('hiii')\n",
    "    print(a+b)\n",
    "    \n",
    "faisal(11,2)"
   ]
  },
  {
   "cell_type": "code",
   "execution_count": 49,
   "id": "eb2de668",
   "metadata": {},
   "outputs": [
    {
     "name": "stdout",
     "output_type": "stream",
     "text": [
      "{'name': 'deepanshu', 'age': 24, 'gender': 'Male'}\n",
      "dict_items([('name', 'deepanshu'), ('age', 24), ('gender', 'Male')])\n",
      "Person Information\n",
      "name -------- deepanshu\n",
      "age -------- 24\n",
      "gender -------- Male\n"
     ]
    }
   ],
   "source": [
    "def f2(**k):\n",
    "    print(k)\n",
    "    print(k.items())\n",
    "    print('Person Information')\n",
    "    for key,value in k.items():\n",
    "        \n",
    "        print(key,'--------',value)\n",
    "        \n",
    "f2(name='deepanshu',age=24,gender=\"Male\")"
   ]
  },
  {
   "cell_type": "code",
   "execution_count": 35,
   "id": "d5097204",
   "metadata": {},
   "outputs": [
    {
     "name": "stdout",
     "output_type": "stream",
     "text": [
      "('chicken', 'vibe', 'Robin', 'peacefull', 'guy', 'punjabi songs')\n",
      "My name is Robin\n",
      "I'm a amazing guy\n",
      "My vibe is so good\n",
      "I love to hear punjabi songs\n",
      "My favorite food is chicken\n",
      "I love peacefull life\n"
     ]
    }
   ],
   "source": [
    "def x(*dash):\n",
    "    print(dash)\n",
    "    print(\"My name is\" , dash[2])\n",
    "    print(\"I'm a amazing \" + dash[4])\n",
    "    print(\"My \" + dash[1]+ \" is so good\")\n",
    "    print(\"I love to hear \" + dash[5])\n",
    "    print(\"My favorite food is \"+ dash[0])\n",
    "    print(\"I love \" + dash[3]+ \" life\")\n",
    "x(\"chicken\",\"vibe\",\"Robin\",\"peacefull\",\"guy\",\"punjabi songs\")\n",
    "\n"
   ]
  },
  {
   "cell_type": "markdown",
   "id": "537667e0",
   "metadata": {},
   "source": [
    "- you can use def function in single line "
   ]
  },
  {
   "cell_type": "code",
   "execution_count": 36,
   "id": "12ec879e",
   "metadata": {},
   "outputs": [
    {
     "data": {
      "text/plain": [
       "117649"
      ]
     },
     "execution_count": 36,
     "metadata": {},
     "output_type": "execute_result"
    }
   ],
   "source": [
    "def cube(x): return x**6\n",
    "\n",
    "cube(7)"
   ]
  },
  {
   "cell_type": "markdown",
   "id": "fecf5375",
   "metadata": {},
   "source": [
    "- some examples of def function"
   ]
  },
  {
   "cell_type": "code",
   "execution_count": 51,
   "id": "0d1f2186",
   "metadata": {},
   "outputs": [
    {
     "name": "stdout",
     "output_type": "stream",
     "text": [
      "I am from  Sweden\n",
      "I am from  India\n",
      "I am from  Norway\n",
      "I am from  Brazil\n"
     ]
    }
   ],
   "source": [
    "def my_function(country = \"Norway\"):        \n",
    "    print(\"I am from \",country)\n",
    "\n",
    "my_function(\"Sweden\")               \n",
    "# # in a function that we have given the arugment it will work through that \n",
    "my_function(\"India\")\n",
    "my_function() \n",
    "# # in a function that we didn't give argument it will work through default argument\n",
    "my_function(\"Brazil\")"
   ]
  },
  {
   "cell_type": "code",
   "execution_count": 59,
   "id": "e0d1d55c",
   "metadata": {},
   "outputs": [
    {
     "name": "stdout",
     "output_type": "stream",
     "text": [
      "5\n",
      "(1, 3, 3, 4, 5)\n"
     ]
    }
   ],
   "source": [
    "a=((1),3,(3,4),5)\n",
    "# print(a[2:])\n",
    "print(a[-1])\n",
    "print(a[0:2]+a[2]+a[-1:])"
   ]
  },
  {
   "cell_type": "code",
   "execution_count": 18,
   "id": "0a7ff0cb",
   "metadata": {},
   "outputs": [
    {
     "name": "stdout",
     "output_type": "stream",
     "text": [
      "enter number 2\n",
      "enter number 2\n",
      "enter number 2\n",
      "Additrion 6\n",
      "subtraction -2\n",
      "Multiplication 8\n",
      "Division 0.5\n"
     ]
    }
   ],
   "source": [
    "def math():\n",
    "    \n",
    "    a = int(input('enter number '))\n",
    "    b = int(input('enter number '))\n",
    "    c = int(input('enter number '))\n",
    "   \n",
    "    g= a+b+c\n",
    "    print('Additrion',g)\n",
    "    d= a-b-c\n",
    "    print('subtraction',d)\n",
    "    e= a*b*c\n",
    "    print('Multiplication',e)\n",
    "    f=a/b/c\n",
    "    print('Division',f)\n",
    "    \n",
    "math()\n"
   ]
  },
  {
   "cell_type": "markdown",
   "id": "27e12ea9",
   "metadata": {},
   "source": [
    "## Scope of variables"
   ]
  },
  {
   "cell_type": "markdown",
   "id": "44852fd8",
   "metadata": {},
   "source": [
    "All variables in a program may not be accessible at all locations in that program. This depends on where you have declared a variable.\n",
    "\n",
    "The scope of a variable determines the portion of the program where you can access a particular identifier. \n",
    "\n",
    "There are two basic scopes of variables in Python\n",
    "- Local variables\n",
    "- Global variables\n"
   ]
  },
  {
   "cell_type": "markdown",
   "id": "b8957365",
   "metadata": {},
   "source": [
    "Local  vs. Global variables:-\n",
    "    \n",
    "    \n",
    "Variables that are defined inside a function body have a local scope, and those defined outside have a global scope.\n",
    "\n",
    "This means that local variables can be accessed only inside the function in which they are declared, whereas global variables can be accessed throughout the program body by all functions"
   ]
  },
  {
   "cell_type": "code",
   "execution_count": 60,
   "id": "b9445947",
   "metadata": {
    "scrolled": true
   },
   "outputs": [
    {
     "name": "stdout",
     "output_type": "stream",
     "text": [
      "Hello\n",
      "20\n",
      "10\n",
      "10\n"
     ]
    },
    {
     "ename": "NameError",
     "evalue": "name 'YY' is not defined",
     "output_type": "error",
     "traceback": [
      "\u001b[1;31m---------------------------------------------------------------------------\u001b[0m",
      "\u001b[1;31mNameError\u001b[0m                                 Traceback (most recent call last)",
      "\u001b[1;32m<ipython-input-60-46da84f88b65>\u001b[0m in \u001b[0;36m<module>\u001b[1;34m\u001b[0m\n\u001b[0;32m     11\u001b[0m \u001b[0mfunction\u001b[0m\u001b[1;33m(\u001b[0m\u001b[1;33m)\u001b[0m\u001b[1;33m\u001b[0m\u001b[1;33m\u001b[0m\u001b[0m\n\u001b[0;32m     12\u001b[0m \u001b[0mprint\u001b[0m\u001b[1;33m(\u001b[0m\u001b[0mx\u001b[0m\u001b[1;33m)\u001b[0m\u001b[1;33m\u001b[0m\u001b[1;33m\u001b[0m\u001b[0m\n\u001b[1;32m---> 13\u001b[1;33m \u001b[0mprint\u001b[0m\u001b[1;33m(\u001b[0m\u001b[0mYY\u001b[0m\u001b[1;33m)\u001b[0m\u001b[1;33m\u001b[0m\u001b[1;33m\u001b[0m\u001b[0m\n\u001b[0m",
      "\u001b[1;31mNameError\u001b[0m: name 'YY' is not defined"
     ]
    }
   ],
   "source": [
    "x = 10\n",
    "\n",
    "def function():\n",
    "    print(\"Hello\")\n",
    "    \n",
    "    YY= 20 # local variable\n",
    "    print(YY)\n",
    "    print(x)\n",
    "    \n",
    "    \n",
    "function()\n",
    "print(x)\n",
    "print(YY) # YY is not print because YY variable is define inside the function.\n"
   ]
  },
  {
   "cell_type": "code",
   "execution_count": null,
   "id": "191e2089",
   "metadata": {},
   "outputs": [],
   "source": []
  },
  {
   "cell_type": "markdown",
   "id": "585e2e30",
   "metadata": {},
   "source": [
    "- Local scope variables can only be accessed within its block."
   ]
  },
  {
   "cell_type": "code",
   "execution_count": 61,
   "id": "2a869605",
   "metadata": {},
   "outputs": [
    {
     "name": "stdout",
     "output_type": "stream",
     "text": [
      "Hello\n",
      "20\n",
      "10\n"
     ]
    },
    {
     "ename": "NameError",
     "evalue": "name 'zz' is not defined",
     "output_type": "error",
     "traceback": [
      "\u001b[1;31m---------------------------------------------------------------------------\u001b[0m",
      "\u001b[1;31mNameError\u001b[0m                                 Traceback (most recent call last)",
      "\u001b[1;32m<ipython-input-61-6771f21ee2c0>\u001b[0m in \u001b[0;36m<module>\u001b[1;34m\u001b[0m\n\u001b[0;32m      6\u001b[0m \u001b[0mfunction\u001b[0m\u001b[1;33m(\u001b[0m\u001b[1;33m)\u001b[0m\u001b[1;33m\u001b[0m\u001b[1;33m\u001b[0m\u001b[0m\n\u001b[0;32m      7\u001b[0m \u001b[0mprint\u001b[0m\u001b[1;33m(\u001b[0m\u001b[0mx\u001b[0m\u001b[1;33m)\u001b[0m\u001b[1;33m\u001b[0m\u001b[1;33m\u001b[0m\u001b[0m\n\u001b[1;32m----> 8\u001b[1;33m \u001b[0mprint\u001b[0m\u001b[1;33m(\u001b[0m\u001b[0mzz\u001b[0m\u001b[1;33m)\u001b[0m\u001b[1;33m\u001b[0m\u001b[1;33m\u001b[0m\u001b[0m\n\u001b[0m",
      "\u001b[1;31mNameError\u001b[0m: name 'zz' is not defined"
     ]
    }
   ],
   "source": [
    "x = 10\n",
    "def function():\n",
    "    print(\"Hello\")\n",
    "    zz = 20\n",
    "    print(zz)\n",
    "function()\n",
    "print(x)\n",
    "print(zz)"
   ]
  },
  {
   "cell_type": "code",
   "execution_count": 1,
   "id": "fda07da2",
   "metadata": {},
   "outputs": [
    {
     "data": {
      "text/plain": [
       "20"
      ]
     },
     "execution_count": 1,
     "metadata": {},
     "output_type": "execute_result"
    }
   ],
   "source": [
    "def add(a,b):\n",
    "    return a+b\n",
    "a=10\n",
    "b=10\n",
    "add(a,b)"
   ]
  },
  {
   "cell_type": "code",
   "execution_count": 62,
   "id": "b200b552",
   "metadata": {},
   "outputs": [
    {
     "name": "stdout",
     "output_type": "stream",
     "text": [
      "The Sum of two number is  30\n",
      "The Total is  0\n"
     ]
    }
   ],
   "source": [
    "# This demo is related with scope\n",
    "\n",
    "total=0   # This is a global variable\n",
    "def sum(a,b):\n",
    "    total=a+b    # Here total is local variable\n",
    "    print(\"The Sum of two number is \",total)\n",
    "\n",
    "# Using Sum Func\n",
    "sum(10,20)\n",
    "print(\"The Total is \",total)# it is a gloabal variable\n",
    "\n"
   ]
  },
  {
   "cell_type": "markdown",
   "id": "6f861858",
   "metadata": {},
   "source": [
    "For example, we define a variable Money in the global namespace. Within the function Money, we assign Money a value, therefore Python assumes Money as a local variable. \n",
    "\n",
    "\n",
    "However, we accessed the value of the local variable Money before setting it, so an UnboundLocalError is the result. \n",
    "To overcome this problem we use the  global keyword"
   ]
  },
  {
   "cell_type": "code",
   "execution_count": 63,
   "id": "d8a529d0",
   "metadata": {},
   "outputs": [
    {
     "name": "stdout",
     "output_type": "stream",
     "text": [
      "1000\n"
     ]
    },
    {
     "ename": "UnboundLocalError",
     "evalue": "local variable 'Money' referenced before assignment",
     "output_type": "error",
     "traceback": [
      "\u001b[1;31m---------------------------------------------------------------------------\u001b[0m",
      "\u001b[1;31mUnboundLocalError\u001b[0m                         Traceback (most recent call last)",
      "\u001b[1;32m<ipython-input-63-222e5f5616f1>\u001b[0m in \u001b[0;36m<module>\u001b[1;34m\u001b[0m\n\u001b[0;32m      6\u001b[0m \u001b[1;33m\u001b[0m\u001b[0m\n\u001b[0;32m      7\u001b[0m \u001b[0mprint\u001b[0m\u001b[1;33m(\u001b[0m\u001b[0mMoney\u001b[0m\u001b[1;33m)\u001b[0m\u001b[1;33m\u001b[0m\u001b[1;33m\u001b[0m\u001b[0m\n\u001b[1;32m----> 8\u001b[1;33m \u001b[0mAdd_money\u001b[0m\u001b[1;33m(\u001b[0m\u001b[1;33m)\u001b[0m\u001b[1;33m\u001b[0m\u001b[1;33m\u001b[0m\u001b[0m\n\u001b[0m\u001b[0;32m      9\u001b[0m \u001b[0mprint\u001b[0m\u001b[1;33m(\u001b[0m\u001b[0mMoney\u001b[0m\u001b[1;33m)\u001b[0m\u001b[1;33m\u001b[0m\u001b[1;33m\u001b[0m\u001b[0m\n",
      "\u001b[1;32m<ipython-input-63-222e5f5616f1>\u001b[0m in \u001b[0;36mAdd_money\u001b[1;34m()\u001b[0m\n\u001b[0;32m      2\u001b[0m \u001b[1;32mdef\u001b[0m \u001b[0mAdd_money\u001b[0m\u001b[1;33m(\u001b[0m\u001b[1;33m)\u001b[0m\u001b[1;33m:\u001b[0m\u001b[1;33m\u001b[0m\u001b[1;33m\u001b[0m\u001b[0m\n\u001b[0;32m      3\u001b[0m \u001b[1;33m\u001b[0m\u001b[0m\n\u001b[1;32m----> 4\u001b[1;33m     \u001b[0mMoney\u001b[0m\u001b[1;33m=\u001b[0m\u001b[0mMoney\u001b[0m\u001b[1;33m+\u001b[0m\u001b[1;36m100\u001b[0m\u001b[1;33m\u001b[0m\u001b[1;33m\u001b[0m\u001b[0m\n\u001b[0m\u001b[0;32m      5\u001b[0m     \u001b[0mprint\u001b[0m\u001b[1;33m(\u001b[0m\u001b[0mMoney\u001b[0m\u001b[1;33m)\u001b[0m\u001b[1;33m\u001b[0m\u001b[1;33m\u001b[0m\u001b[0m\n\u001b[0;32m      6\u001b[0m \u001b[1;33m\u001b[0m\u001b[0m\n",
      "\u001b[1;31mUnboundLocalError\u001b[0m: local variable 'Money' referenced before assignment"
     ]
    }
   ],
   "source": [
    "Money=1000\n",
    "def Add_money():\n",
    "    \n",
    "    Money=Money+100 # we cant't modify the global variable inside the function\n",
    "    print(Money)\n",
    "    \n",
    "print(Money)\n",
    "Add_money()\n",
    "print(Money)"
   ]
  },
  {
   "cell_type": "code",
   "execution_count": 65,
   "id": "68760f9e",
   "metadata": {},
   "outputs": [
    {
     "name": "stdout",
     "output_type": "stream",
     "text": [
      "1000\n",
      "1100\n",
      "1999\n"
     ]
    }
   ],
   "source": [
    "Money=1000\n",
    "def Add_money():\n",
    "    a=Money\n",
    "    a=a+100\n",
    "    print(a)\n",
    "    \n",
    "print(Money)\n",
    "Add_money()\n",
    "print(Money+999)"
   ]
  },
  {
   "cell_type": "code",
   "execution_count": 59,
   "id": "ce1f9dae",
   "metadata": {},
   "outputs": [
    {
     "name": "stdout",
     "output_type": "stream",
     "text": [
      "the global variable before the function 2000\n",
      "After assigning the global variable 2001\n",
      "2001\n"
     ]
    }
   ],
   "source": [
    "Money=2000 #global variable\n",
    "\n",
    "def Add_Money():\n",
    "    global Money  #global is used to acces the variable inside the function or to modify it\n",
    "    Money=Money+1\n",
    "\n",
    "\n",
    "print('the global variable before the function',Money)\n",
    "Add_Money()\n",
    "print('After assigning the global variable',Money)\n",
    "print(Money)\n"
   ]
  },
  {
   "cell_type": "code",
   "execution_count": 60,
   "id": "58ac9c2b",
   "metadata": {},
   "outputs": [
    {
     "name": "stdout",
     "output_type": "stream",
     "text": [
      "Welcome To !\n",
      "Madrid Software\n",
      "Madrid Software\n"
     ]
    }
   ],
   "source": [
    "# This function modifies global variable 's'\n",
    "def f():\n",
    "    global s\n",
    "    print(s)\n",
    "    s = \"Madrid Software\"\n",
    "    print(s)\n",
    "\n",
    "# Global Scope\n",
    "s = \"Welcome To !\"\n",
    "f()\n",
    "print(s)\n"
   ]
  },
  {
   "cell_type": "code",
   "execution_count": 3,
   "id": "b310dac5",
   "metadata": {},
   "outputs": [
    {
     "name": "stdout",
     "output_type": "stream",
     "text": [
      "global :  1\n",
      "Inside f() :  1\n",
      "global :  1\n",
      "Inside g() :  2\n",
      "global :  1\n",
      "Inside h() :  3\n",
      "global :  3\n"
     ]
    }
   ],
   "source": [
    "# Python program to demonstrate\n",
    "# scope of variable\n",
    "a = 1\n",
    "# Uses global because there is no local 'a'\n",
    "def f():\n",
    "    print('Inside f() : ', a)\n",
    "# Variable 'a' is redefined as a local\n",
    "def g():\n",
    "    a = 2\n",
    "    print('Inside g() : ', a)\n",
    "# Uses global keyword to modify global 'a'\n",
    "def h():\n",
    "    \n",
    "    global a\n",
    "    a = 3\n",
    "   \n",
    "    print('Inside h() : ', a)\n",
    "\n",
    "# Global scope\n",
    "print('global : ', a)\n",
    "f()\n",
    "print('global : ', a)\n",
    "g()\n",
    "print('global : ', a)\n",
    "h()\n",
    "print('global : ', a)\n"
   ]
  },
  {
   "cell_type": "code",
   "execution_count": 4,
   "id": "15fabf89",
   "metadata": {},
   "outputs": [
    {
     "name": "stdout",
     "output_type": "stream",
     "text": [
      "1\n",
      "Inside h() :  3\n"
     ]
    }
   ],
   "source": [
    "a=1\n",
    "def h():\n",
    "    global a\n",
    "    a = 3\n",
    "    print('Inside h() : ', a)\n",
    "print(a)\n",
    "h()"
   ]
  },
  {
   "cell_type": "code",
   "execution_count": 12,
   "id": "e4a19e78",
   "metadata": {},
   "outputs": [
    {
     "name": "stdout",
     "output_type": "stream",
     "text": [
      "400\n"
     ]
    }
   ],
   "source": [
    "add(100,300)"
   ]
  },
  {
   "cell_type": "code",
   "execution_count": 14,
   "id": "c1bb5f45",
   "metadata": {},
   "outputs": [
    {
     "name": "stdout",
     "output_type": "stream",
     "text": [
      "1000.5\n"
     ]
    }
   ],
   "source": [
    "add(500.2,500.3)"
   ]
  },
  {
   "cell_type": "code",
   "execution_count": 48,
   "id": "42262407",
   "metadata": {},
   "outputs": [],
   "source": [
    "# length('sdfghjkjhgfdsdklkuytrtyu')"
   ]
  },
  {
   "cell_type": "code",
   "execution_count": 51,
   "id": "94d1c6d2",
   "metadata": {},
   "outputs": [
    {
     "data": {
      "text/plain": [
       "14"
      ]
     },
     "execution_count": 51,
     "metadata": {},
     "output_type": "execute_result"
    }
   ],
   "source": [
    "x='verma'\n",
    "length(x)"
   ]
  },
  {
   "cell_type": "code",
   "execution_count": 135,
   "id": "6ee7dd4a",
   "metadata": {},
   "outputs": [
    {
     "name": "stdout",
     "output_type": "stream",
     "text": [
      "emter i 5\n",
      "enter j5\n",
      "enter a 1\n",
      "enter a 1\n",
      "enter a 1\n",
      "enter a 1\n",
      "enter a 1\n",
      "enter a 1\n",
      "enter a 0\n",
      "enter a 0\n",
      "enter a 0\n",
      "enter a 1\n",
      "enter a 1\n",
      "enter a 0\n",
      "enter a 9\n",
      "enter a 0\n",
      "enter a 1\n",
      "enter a 1\n",
      "enter a 0\n",
      "enter a 0\n",
      "enter a 0\n",
      "enter a 1\n",
      "enter a 1\n",
      "enter a 1\n",
      "enter a 1\n",
      "enter a 1\n",
      "enter a 1\n"
     ]
    },
    {
     "data": {
      "text/plain": [
       "array([[1, 1, 1, 1, 1],\n",
       "       [1, 0, 0, 0, 1],\n",
       "       [1, 0, 9, 0, 1],\n",
       "       [1, 0, 0, 0, 1],\n",
       "       [1, 1, 1, 1, 1]])"
      ]
     },
     "execution_count": 135,
     "metadata": {},
     "output_type": "execute_result"
    }
   ],
   "source": [
    "import numpy as np\n",
    "L=[]\n",
    "i=int(input('emter i '))\n",
    "j=int(input('enter j'))\n",
    "size=i*j\n",
    "for i in range(size):\n",
    "    \n",
    "    a=int(input('enter a '))\n",
    "    L.append(a)\n",
    "    \n",
    "b=np.array((L),ndmin=2)\n",
    "b.reshape((5,5))\n",
    "\n"
   ]
  },
  {
   "cell_type": "code",
   "execution_count": 132,
   "id": "dc99169a",
   "metadata": {},
   "outputs": [
    {
     "name": "stdout",
     "output_type": "stream",
     "text": [
      "[[0 0 0 0 0 0 1 2 3 4 0 2 4 6 8]]\n"
     ]
    }
   ],
   "source": [
    "print(b)\n"
   ]
  },
  {
   "cell_type": "code",
   "execution_count": 133,
   "id": "85190530",
   "metadata": {},
   "outputs": [
    {
     "data": {
      "text/plain": [
       "array([[0, 0, 0, 0, 0],\n",
       "       [0, 1, 2, 3, 4],\n",
       "       [0, 2, 4, 6, 8]])"
      ]
     },
     "execution_count": 133,
     "metadata": {},
     "output_type": "execute_result"
    }
   ],
   "source": []
  },
  {
   "cell_type": "code",
   "execution_count": 137,
   "id": "fbcc189d",
   "metadata": {},
   "outputs": [
    {
     "data": {
      "text/plain": [
       "array([[1., 1., 1., 1., 1.],\n",
       "       [1., 1., 1., 1., 1.],\n",
       "       [1., 1., 1., 1., 1.],\n",
       "       [1., 1., 1., 1., 1.],\n",
       "       [1., 1., 1., 1., 1.]])"
      ]
     },
     "execution_count": 137,
     "metadata": {},
     "output_type": "execute_result"
    }
   ],
   "source": [
    "a=np.ones((5,5))\n",
    "a"
   ]
  },
  {
   "cell_type": "code",
   "execution_count": 140,
   "id": "0fbaf589",
   "metadata": {},
   "outputs": [
    {
     "name": "stdout",
     "output_type": "stream",
     "text": [
      "[[0. 0. 0.]\n",
      " [0. 9. 0.]\n",
      " [0. 0. 0.]]\n"
     ]
    }
   ],
   "source": [
    "b=np.zeros((3,3))\n",
    "b[1][1]=9\n",
    "print(b)"
   ]
  },
  {
   "cell_type": "code",
   "execution_count": 141,
   "id": "b0536143",
   "metadata": {},
   "outputs": [
    {
     "name": "stdout",
     "output_type": "stream",
     "text": [
      "[[1. 1. 1. 1. 1.]\n",
      " [1. 0. 0. 0. 1.]\n",
      " [1. 0. 9. 0. 1.]\n",
      " [1. 0. 0. 0. 1.]\n",
      " [1. 1. 1. 1. 1.]]\n"
     ]
    }
   ],
   "source": [
    "a[1:4,1:4]=b\n",
    "print(a)"
   ]
  },
  {
   "cell_type": "code",
   "execution_count": 3,
   "id": "e70f9be9",
   "metadata": {},
   "outputs": [],
   "source": [
    "def add(a,b):\n",
    "    '''This is for addition'''\n",
    "    c=a+b\n",
    "    return c"
   ]
  },
  {
   "cell_type": "code",
   "execution_count": 7,
   "id": "2f925d7a",
   "metadata": {},
   "outputs": [
    {
     "data": {
      "text/plain": [
       "6"
      ]
     },
     "execution_count": 7,
     "metadata": {},
     "output_type": "execute_result"
    }
   ],
   "source": [
    "x=add(2,4)\n",
    "x"
   ]
  },
  {
   "cell_type": "code",
   "execution_count": 9,
   "id": "63250710",
   "metadata": {},
   "outputs": [
    {
     "name": "stdout",
     "output_type": "stream",
     "text": [
      "This is for addition\n"
     ]
    }
   ],
   "source": [
    "print(add.__doc__)"
   ]
  }
 ],
 "metadata": {
  "kernelspec": {
   "display_name": "Python 3 (ipykernel)",
   "language": "python",
   "name": "python3"
  },
  "language_info": {
   "codemirror_mode": {
    "name": "ipython",
    "version": 3
   },
   "file_extension": ".py",
   "mimetype": "text/x-python",
   "name": "python",
   "nbconvert_exporter": "python",
   "pygments_lexer": "ipython3",
   "version": "3.9.12"
  }
 },
 "nbformat": 4,
 "nbformat_minor": 5
}
